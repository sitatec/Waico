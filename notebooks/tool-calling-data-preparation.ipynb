{
 "cells": [
  {
   "cell_type": "code",
   "execution_count": 1,
   "id": "7e3ace8a",
   "metadata": {},
   "outputs": [
    {
     "name": "stdout",
     "output_type": "stream",
     "text": [
      "Requirement already satisfied: datasets in /Users/sitatech/.pyenv/versions/3.12.0/lib/python3.12/site-packages (2.19.2)\n",
      "Requirement already satisfied: filelock in /Users/sitatech/.pyenv/versions/3.12.0/lib/python3.12/site-packages (from datasets) (3.15.4)\n",
      "Requirement already satisfied: numpy>=1.17 in /Users/sitatech/.pyenv/versions/3.12.0/lib/python3.12/site-packages (from datasets) (2.3.1)\n",
      "Requirement already satisfied: pyarrow>=12.0.0 in /Users/sitatech/.pyenv/versions/3.12.0/lib/python3.12/site-packages (from datasets) (20.0.0)\n",
      "Requirement already satisfied: pyarrow-hotfix in /Users/sitatech/.pyenv/versions/3.12.0/lib/python3.12/site-packages (from datasets) (0.6)\n",
      "Requirement already satisfied: dill<0.3.9,>=0.3.0 in /Users/sitatech/.pyenv/versions/3.12.0/lib/python3.12/site-packages (from datasets) (0.3.8)\n",
      "Requirement already satisfied: pandas in /Users/sitatech/.pyenv/versions/3.12.0/lib/python3.12/site-packages (from datasets) (2.3.0)\n",
      "Requirement already satisfied: requests>=2.32.1 in /Users/sitatech/.pyenv/versions/3.12.0/lib/python3.12/site-packages (from datasets) (2.32.3)\n",
      "Requirement already satisfied: tqdm>=4.62.1 in /Users/sitatech/.pyenv/versions/3.12.0/lib/python3.12/site-packages (from datasets) (4.66.4)\n",
      "Requirement already satisfied: xxhash in /Users/sitatech/.pyenv/versions/3.12.0/lib/python3.12/site-packages (from datasets) (3.5.0)\n",
      "Requirement already satisfied: multiprocess in /Users/sitatech/.pyenv/versions/3.12.0/lib/python3.12/site-packages (from datasets) (0.70.16)\n",
      "Requirement already satisfied: fsspec<=2024.3.1,>=2023.1.0 in /Users/sitatech/.pyenv/versions/3.12.0/lib/python3.12/site-packages (from fsspec[http]<=2024.3.1,>=2023.1.0->datasets) (2024.3.1)\n",
      "Requirement already satisfied: aiohttp in /Users/sitatech/.pyenv/versions/3.12.0/lib/python3.12/site-packages (from datasets) (3.10.10)\n",
      "Requirement already satisfied: huggingface-hub>=0.21.2 in /Users/sitatech/.pyenv/versions/3.12.0/lib/python3.12/site-packages (from datasets) (0.29.1)\n",
      "Requirement already satisfied: packaging in /Users/sitatech/.pyenv/versions/3.12.0/lib/python3.12/site-packages (from datasets) (24.1)\n",
      "Requirement already satisfied: pyyaml>=5.1 in /Users/sitatech/.pyenv/versions/3.12.0/lib/python3.12/site-packages (from datasets) (6.0.1)\n",
      "Requirement already satisfied: aiohappyeyeballs>=2.3.0 in /Users/sitatech/.pyenv/versions/3.12.0/lib/python3.12/site-packages (from aiohttp->datasets) (2.4.2)\n",
      "Requirement already satisfied: aiosignal>=1.1.2 in /Users/sitatech/.pyenv/versions/3.12.0/lib/python3.12/site-packages (from aiohttp->datasets) (1.3.1)\n",
      "Requirement already satisfied: attrs>=17.3.0 in /Users/sitatech/.pyenv/versions/3.12.0/lib/python3.12/site-packages (from aiohttp->datasets) (23.2.0)\n",
      "Requirement already satisfied: frozenlist>=1.1.1 in /Users/sitatech/.pyenv/versions/3.12.0/lib/python3.12/site-packages (from aiohttp->datasets) (1.4.1)\n",
      "Requirement already satisfied: multidict<7.0,>=4.5 in /Users/sitatech/.pyenv/versions/3.12.0/lib/python3.12/site-packages (from aiohttp->datasets) (6.1.0)\n",
      "Requirement already satisfied: yarl<2.0,>=1.12.0 in /Users/sitatech/.pyenv/versions/3.12.0/lib/python3.12/site-packages (from aiohttp->datasets) (1.13.0)\n",
      "Requirement already satisfied: typing-extensions>=3.7.4.3 in /Users/sitatech/.pyenv/versions/3.12.0/lib/python3.12/site-packages (from huggingface-hub>=0.21.2->datasets) (4.12.2)\n",
      "Requirement already satisfied: charset-normalizer<4,>=2 in /Users/sitatech/.pyenv/versions/3.12.0/lib/python3.12/site-packages (from requests>=2.32.1->datasets) (3.3.2)\n",
      "Requirement already satisfied: idna<4,>=2.5 in /Users/sitatech/.pyenv/versions/3.12.0/lib/python3.12/site-packages (from requests>=2.32.1->datasets) (3.10)\n",
      "Requirement already satisfied: urllib3<3,>=1.21.1 in /Users/sitatech/.pyenv/versions/3.12.0/lib/python3.12/site-packages (from requests>=2.32.1->datasets) (2.0.7)\n",
      "Requirement already satisfied: certifi>=2017.4.17 in /Users/sitatech/.pyenv/versions/3.12.0/lib/python3.12/site-packages (from requests>=2.32.1->datasets) (2024.8.30)\n",
      "Requirement already satisfied: python-dateutil>=2.8.2 in /Users/sitatech/.pyenv/versions/3.12.0/lib/python3.12/site-packages (from pandas->datasets) (2.8.2)\n",
      "Requirement already satisfied: pytz>=2020.1 in /Users/sitatech/.pyenv/versions/3.12.0/lib/python3.12/site-packages (from pandas->datasets) (2024.2)\n",
      "Requirement already satisfied: tzdata>=2022.7 in /Users/sitatech/.pyenv/versions/3.12.0/lib/python3.12/site-packages (from pandas->datasets) (2023.3)\n",
      "Requirement already satisfied: six>=1.5 in /Users/sitatech/.pyenv/versions/3.12.0/lib/python3.12/site-packages (from python-dateutil>=2.8.2->pandas->datasets) (1.16.0)\n",
      "\n",
      "\u001b[1m[\u001b[0m\u001b[34;49mnotice\u001b[0m\u001b[1;39;49m]\u001b[0m\u001b[39;49m A new release of pip is available: \u001b[0m\u001b[31;49m24.3.1\u001b[0m\u001b[39;49m -> \u001b[0m\u001b[32;49m25.1.1\u001b[0m\n",
      "\u001b[1m[\u001b[0m\u001b[34;49mnotice\u001b[0m\u001b[1;39;49m]\u001b[0m\u001b[39;49m To update, run: \u001b[0m\u001b[32;49mpip install --upgrade pip\u001b[0m\n"
     ]
    }
   ],
   "source": [
    "!pip install datasets"
   ]
  },
  {
   "cell_type": "code",
   "execution_count": 2,
   "id": "4e68efb9",
   "metadata": {},
   "outputs": [],
   "source": [
    "TOOL_DEFINITIONS = {\n",
    "  'send_report_to': 'send_report_to(required String recipient_email):\\nSend a report generated based on observations from previous conversations. This can be sent to a health or wellbeing professional trusted by the user. This function should only be called upon the user’s request or with their explicit approval.',\n",
    "  'make_phone_call': 'make_phone_call(required String phone_number):\\nInitiate a phone call to the specified phone number. This function should only be called upon the user’s request or with their explicit approval.',\n",
    "  'search_memory': 'search_memory(required String query):\\nSearch your memory (Waico’s memory, not the user’s) from past conversations for relevant information.\\nThe query parameter is a relevant fact, expression, event, person, expression.',\n",
    "  'get_health_data': 'get_health_data(required String health_data_type, required String period):\\nRetrieve health-related data for a specified category and time period.\\nThe health_data_type parameter must be one of the following: SLEEP, WATER, STEPS_COUNT, ACTIVE_ENERGY_BURNED, or WEIGHT.\\nThe period parameter must be one of: TODAY (from midnight to now) or LAST_24_HOURS.',\n",
    "  'display_user_progress': 'display_user_progress(required String health_data_type, required String period):\\nDisplay a Line Chart of the user’s daily data for a given type and time period. It also shows the total for the given period.\\nThe health_data_type parameter must be one of: SLEEP, WATER, STEPS_COUNT, ACTIVE_ENERGY_BURNED, or WEIGHT.\\nThe period parameter must be one of: LAST_7_DAYS or LAST_30_DAYS.',\n",
    "  'create_calendar_single_event': 'create_calendar_single_event(required String event_name, required String starts_at, required String ends_at, optional String description, optional String location):\\nCreate a single (non-recurring) calendar event.\\nThe starts_at and ends_at parameters should be in ISO 8601 format (e.g. 2024-08-01T10:00:00Z).',\n",
    "  'schedule_recurring_calendar_event': 'schedule_recurring_calendar_event(required String event_name, required String starts_at, required String ends_at, required String frequency, optional String recurrence_ends_at, optional String description, optional String location):\\nSchedule a recurring calendar event.\\nThe starts_at and ends_at parameters should be in ISO 8601 format (e.g. 2024-08-01T10:00:00Z).\\nThe frequency parameter must be one of the following: DAILY, WEEKLY, MONTHLY, or YEARLY.\\nThe recurrence_ends_at parameter is optional and specifies the end date of the recurrence in ISO 8601 format (e.g. 2024-08-01T10:00:00Z). If not provided, the event will recur indefinitely.',\n",
    "}"
   ]
  },
  {
   "cell_type": "code",
   "execution_count": 3,
   "id": "ef148716",
   "metadata": {},
   "outputs": [],
   "source": [
    "import re\n",
    "import random\n",
    "from typing import List, Any\n",
    "\n",
    "\n",
    "def add_system_prompt(sample, lang: str):\n",
    "    tool_instructions = (\n",
    "        \"\\n\\nTOOL CALLING:\\n\"\n",
    "        \"You have access to the tools below that you can call to satisfy a user query or when you think it is appropriate.\\n\"\n",
    "        \"If a tool requires an input that you don't know or the user query is ambiguous, ask for clarification. If you can't perform the action requested and there is no tool to perform it, politely let the user that you don't have that ability.\\n\\n\"\n",
    "        f\"{\"\\n---\\n\".join(get_tool_definitions(sample))}\"\n",
    "    )\n",
    "    if sample.get(\"system\"):\n",
    "        sample[\"system\"] += tool_instructions\n",
    "    else:\n",
    "        sample[\"system\"] = f\"You are Waico, a helpful Wellbeing AI Assistant.{tool_instructions}\"\n",
    "    \n",
    "    sample[\"lang\"] = lang\n",
    "    return sample\n",
    "\n",
    "\n",
    "def get_tool_definitions(sample):\n",
    "    assistant_message = sample[\"assistant\"]\n",
    "    tool_match = re.search(r\"<tool_call\\s+([^\\s>]+)>\", assistant_message)\n",
    "\n",
    "    if tool_match:\n",
    "        tool_called = tool_match.group(1)\n",
    "        selected_tool_definition = TOOL_DEFINITIONS[tool_called]\n",
    "        # Choose random tool definitions to include with the tool the model must pick\n",
    "        # If we provide only the selected tool, the model won't learn to pick the right\n",
    "        # tool among many available.\n",
    "        additional_tool_definitions = pick_random_samples(\n",
    "            data=list(TOOL_DEFINITIONS.values()),\n",
    "            exclude=selected_tool_definition,\n",
    "            max_samples=3,\n",
    "        )\n",
    "        return [selected_tool_definition, *additional_tool_definitions]\n",
    "    else:\n",
    "        # This samples doesn't contain tool call, maybe a case where the user didn't provide\n",
    "        # enough context for the model to deduce the parameters or there is no tool to\n",
    "        # perform the action the user requested. In some of these cases, the model will\n",
    "        # say which tools it can use, to make sure the tools it list are in the system prompt\n",
    "        # we return all of their definitions here.\n",
    "        return list(TOOL_DEFINITIONS.values())\n",
    "\n",
    "\n",
    "def pick_random_samples(\n",
    "    data: List[Any], max_samples: int, exclude: Any | None = None\n",
    ") -> List[Any]:\n",
    "    \"\"\"\n",
    "    Randomly picks between 1 and `max_elements` samples from the given list `data`,\n",
    "    excluding the specified `exclude` element.\n",
    "\n",
    "    Parameters:\n",
    "        data (List[Any]): The list to sample from.\n",
    "        exclude (Any): An element to exclude from sampling.\n",
    "        max_samples (int): The maximum number of elements to sample (inclusive).\n",
    "\n",
    "    Returns:\n",
    "        List[Any]: A list of randomly selected elements (length between 1 and `max_elements`),\n",
    "                   not including the excluded element.\n",
    "\n",
    "    Raises:\n",
    "        ValueError: If no elements remain after exclusion or if max_elements is invalid.\n",
    "    \"\"\"\n",
    "    if exclude is not None:\n",
    "        data = [item for item in data if item != exclude]\n",
    "\n",
    "    if not data:\n",
    "        raise ValueError(\"No elements left to sample after exclusion.\")\n",
    "\n",
    "    if max_samples < 1:\n",
    "        raise ValueError(\"max_samples must be at least 1.\")\n",
    "\n",
    "    max_possible = min(max_samples, len(data))\n",
    "    sample_size = random.randint(1, max_possible)\n",
    "\n",
    "    return random.sample(data, sample_size)"
   ]
  },
  {
   "cell_type": "code",
   "execution_count": 4,
   "id": "386b458f",
   "metadata": {},
   "outputs": [
    {
     "data": {
      "application/vnd.jupyter.widget-view+json": {
       "model_id": "92c7576462884ed6a8fb3433b99fc4c5",
       "version_major": 2,
       "version_minor": 0
      },
      "text/plain": [
       "Generating train split: 0 examples [00:00, ? examples/s]"
      ]
     },
     "metadata": {},
     "output_type": "display_data"
    },
    {
     "data": {
      "application/vnd.jupyter.widget-view+json": {
       "model_id": "aaeea74cf5b845d8b2f6eecbb5383671",
       "version_major": 2,
       "version_minor": 0
      },
      "text/plain": [
       "Generating train split: 0 examples [00:00, ? examples/s]"
      ]
     },
     "metadata": {},
     "output_type": "display_data"
    },
    {
     "data": {
      "application/vnd.jupyter.widget-view+json": {
       "model_id": "5504ec04d18a41fa8fbab264ef25d9c6",
       "version_major": 2,
       "version_minor": 0
      },
      "text/plain": [
       "Generating train split: 0 examples [00:00, ? examples/s]"
      ]
     },
     "metadata": {},
     "output_type": "display_data"
    },
    {
     "data": {
      "application/vnd.jupyter.widget-view+json": {
       "model_id": "0c60814b8eb549eeb6398cab042d99ad",
       "version_major": 2,
       "version_minor": 0
      },
      "text/plain": [
       "Generating train split: 0 examples [00:00, ? examples/s]"
      ]
     },
     "metadata": {},
     "output_type": "display_data"
    }
   ],
   "source": [
    "from datasets import load_dataset, concatenate_datasets\n",
    "\n",
    "en_dataset = load_dataset(\"json\", data_files=\"../datasets/raw/waico-tool-calling-dataset-en.jsonl\")[\"train\"]\n",
    "fr_dataset = load_dataset(\"json\", data_files=\"../datasets/raw/waico-tool-calling-dataset-fr.jsonl\")[\"train\"]\n",
    "de_dataset = load_dataset(\"json\", data_files=\"../datasets/raw/waico-tool-calling-dataset-de.jsonl\")[\"train\"]\n",
    "es_dataset = load_dataset(\"json\", data_files=\"../datasets/raw/waico-tool-calling-dataset-es.jsonl\")[\"train\"]"
   ]
  },
  {
   "cell_type": "code",
   "execution_count": 5,
   "id": "9bf3653d",
   "metadata": {},
   "outputs": [
    {
     "data": {
      "application/vnd.jupyter.widget-view+json": {
       "model_id": "0be095e009c145f88f873b4f650a900c",
       "version_major": 2,
       "version_minor": 0
      },
      "text/plain": [
       "Map (num_proc=4):   0%|          | 0/1080 [00:00<?, ? examples/s]"
      ]
     },
     "metadata": {},
     "output_type": "display_data"
    },
    {
     "data": {
      "application/vnd.jupyter.widget-view+json": {
       "model_id": "07456b71c30d4b67939e393865f90e58",
       "version_major": 2,
       "version_minor": 0
      },
      "text/plain": [
       "Map (num_proc=4):   0%|          | 0/542 [00:00<?, ? examples/s]"
      ]
     },
     "metadata": {},
     "output_type": "display_data"
    },
    {
     "data": {
      "application/vnd.jupyter.widget-view+json": {
       "model_id": "6b20793df2ca4bb7a679c66cf7fc4451",
       "version_major": 2,
       "version_minor": 0
      },
      "text/plain": [
       "Map (num_proc=4):   0%|          | 0/316 [00:00<?, ? examples/s]"
      ]
     },
     "metadata": {},
     "output_type": "display_data"
    },
    {
     "data": {
      "application/vnd.jupyter.widget-view+json": {
       "model_id": "93d2330ec12344f29e6eb7648a097c83",
       "version_major": 2,
       "version_minor": 0
      },
      "text/plain": [
       "Map (num_proc=4):   0%|          | 0/337 [00:00<?, ? examples/s]"
      ]
     },
     "metadata": {},
     "output_type": "display_data"
    }
   ],
   "source": [
    "en_dataset = en_dataset.map(add_system_prompt, num_proc=4, fn_kwargs={\"lang\": \"en\"})\n",
    "fr_dataset = fr_dataset.map(add_system_prompt, num_proc=4, fn_kwargs={\"lang\": \"fr\"})\n",
    "de_dataset = de_dataset.map(add_system_prompt, num_proc=4, fn_kwargs={\"lang\": \"de\"})\n",
    "es_dataset = es_dataset.map(add_system_prompt, num_proc=4, fn_kwargs={\"lang\": \"es\"})"
   ]
  },
  {
   "cell_type": "code",
   "execution_count": 6,
   "id": "939390ca",
   "metadata": {},
   "outputs": [],
   "source": [
    "prepared_dataset = concatenate_datasets([en_dataset, fr_dataset, de_dataset, es_dataset])"
   ]
  },
  {
   "cell_type": "code",
   "execution_count": 7,
   "id": "181ee19d",
   "metadata": {},
   "outputs": [
    {
     "data": {
      "text/plain": [
       "Dataset({\n",
       "    features: ['assistant', 'user', 'system', 'tool', 'assistant_2', 'user_2', 'lang', 'user_3', 'assistant_3'],\n",
       "    num_rows: 2275\n",
       "})"
      ]
     },
     "execution_count": 7,
     "metadata": {},
     "output_type": "execute_result"
    }
   ],
   "source": [
    "prepared_dataset"
   ]
  },
  {
   "cell_type": "code",
   "execution_count": 8,
   "id": "1f322ad1",
   "metadata": {},
   "outputs": [
    {
     "data": {
      "text/plain": [
       "{'assistant': 'Sure, one moment while I look it up.\\n```tool_code\\nget_health_data(health_data_type=\"SLEEP\", period=\"TODAY\")\\n```',\n",
       " 'user': 'Can you tell me how many hours I slept Today?',\n",
       " 'system': \"You are Waico, a helpful Wellbeing AI Assistant.\\n\\nTOOL CALLING:\\nYou have access to the tools below that you can call to satisfy a user query or when you think it is appropriate.\\nIf a tool requires an input that you don't know or the user query is ambiguous, ask for clarification. If you can't perform the action requested and there is no tool to perform it, politely let the user that you don't have that ability.\\n\\nsend_report_to(required String recipient_email):\\nSend a report generated based on observations from previous conversations. This can be sent to a health or wellbeing professional trusted by the user. This function should only be called upon the user’s request or with their explicit approval.\\n---\\nmake_phone_call(required String phone_number):\\nInitiate a phone call to the specified phone number. This function should only be called upon the user’s request or with their explicit approval.\\n---\\nsearch_memory(required String query):\\nSearch your memory (Waico’s memory, not the user’s) from past conversations for relevant information.\\nThe query parameter is a relevant fact, expression, event, person, expression.\\n---\\nget_health_data(required String health_data_type, required String period):\\nRetrieve health-related data for a specified category and time period.\\nThe health_data_type parameter must be one of the following: SLEEP, WATER, STEPS_COUNT, ACTIVE_ENERGY_BURNED, or WEIGHT.\\nThe period parameter must be one of: TODAY (from midnight to now) or LAST_24_HOURS.\\n---\\ndisplay_user_progress(required String health_data_type, required String period):\\nDisplay a Line Chart of the user’s daily data for a given type and time period. It also shows the total for the given period.\\nThe health_data_type parameter must be one of: SLEEP, WATER, STEPS_COUNT, ACTIVE_ENERGY_BURNED, or WEIGHT.\\nThe period parameter must be one of: LAST_7_DAYS or LAST_30_DAYS.\\n---\\ncreate_calendar_single_event(required String event_name, required String starts_at, required String ends_at, optional String description, optional String location):\\nCreate a single (non-recurring) calendar event.\\nThe starts_at and ends_at parameters should be in ISO 8601 format (e.g. 2024-08-01T10:00:00Z).\\n---\\nschedule_recurring_calendar_event(required String event_name, required String starts_at, required String ends_at, required String frequency, optional String recurrence_ends_at, optional String description, optional String location):\\nSchedule a recurring calendar event.\\nThe starts_at and ends_at parameters should be in ISO 8601 format (e.g. 2024-08-01T10:00:00Z).\\nThe frequency parameter must be one of the following: DAILY, WEEKLY, MONTHLY, or YEARLY.\\nThe recurrence_ends_at parameter is optional and specifies the end date of the recurrence in ISO 8601 format (e.g. 2024-08-01T10:00:00Z). If not provided, the event will recur indefinitely.\",\n",
       " 'tool': None,\n",
       " 'assistant_2': None,\n",
       " 'user_2': None,\n",
       " 'lang': 'en',\n",
       " 'user_3': None,\n",
       " 'assistant_3': None}"
      ]
     },
     "execution_count": 8,
     "metadata": {},
     "output_type": "execute_result"
    }
   ],
   "source": [
    "prepared_dataset[0]"
   ]
  },
  {
   "cell_type": "code",
   "execution_count": 9,
   "id": "d2d9fa2c",
   "metadata": {},
   "outputs": [
    {
     "data": {
      "text/plain": [
       "{'assistant': 'Sure thing. I\\'ve scheduled your shopping trip for this Saturday from 10 AM to 12 PM.\\n```tool_code\\ncreate_calendar_single_event(event_name=\"Holiday Shopping\", starts_at=\"2024-12-07T10:00:00Z\", ends_at=\"2024-12-07T12:00:00Z\")\\n```',\n",
       " 'user': \"Please block out 2 hours for 'Holiday Shopping' this Saturday morning, starting at 10.\",\n",
       " 'system': \"You are Waico, a helpful Wellbeing AI Assistant.\\nThe current date and time is Thursday, December 5, 2024 – 09:00.\\n\\nTOOL CALLING:\\nYou have access to the tools below that you can call to satisfy a user query or when you think it is appropriate.\\nIf a tool requires an input that you don't know or the user query is ambiguous, ask for clarification. If you can't perform the action requested and there is no tool to perform it, politely let the user that you don't have that ability.\\n\\nsend_report_to(required String recipient_email):\\nSend a report generated based on observations from previous conversations. This can be sent to a health or wellbeing professional trusted by the user. This function should only be called upon the user’s request or with their explicit approval.\\n---\\nmake_phone_call(required String phone_number):\\nInitiate a phone call to the specified phone number. This function should only be called upon the user’s request or with their explicit approval.\\n---\\nsearch_memory(required String query):\\nSearch your memory (Waico’s memory, not the user’s) from past conversations for relevant information.\\nThe query parameter is a relevant fact, expression, event, person, expression.\\n---\\nget_health_data(required String health_data_type, required String period):\\nRetrieve health-related data for a specified category and time period.\\nThe health_data_type parameter must be one of the following: SLEEP, WATER, STEPS_COUNT, ACTIVE_ENERGY_BURNED, or WEIGHT.\\nThe period parameter must be one of: TODAY (from midnight to now) or LAST_24_HOURS.\\n---\\ndisplay_user_progress(required String health_data_type, required String period):\\nDisplay a Line Chart of the user’s daily data for a given type and time period. It also shows the total for the given period.\\nThe health_data_type parameter must be one of: SLEEP, WATER, STEPS_COUNT, ACTIVE_ENERGY_BURNED, or WEIGHT.\\nThe period parameter must be one of: LAST_7_DAYS or LAST_30_DAYS.\\n---\\ncreate_calendar_single_event(required String event_name, required String starts_at, required String ends_at, optional String description, optional String location):\\nCreate a single (non-recurring) calendar event.\\nThe starts_at and ends_at parameters should be in ISO 8601 format (e.g. 2024-08-01T10:00:00Z).\\n---\\nschedule_recurring_calendar_event(required String event_name, required String starts_at, required String ends_at, required String frequency, optional String recurrence_ends_at, optional String description, optional String location):\\nSchedule a recurring calendar event.\\nThe starts_at and ends_at parameters should be in ISO 8601 format (e.g. 2024-08-01T10:00:00Z).\\nThe frequency parameter must be one of the following: DAILY, WEEKLY, MONTHLY, or YEARLY.\\nThe recurrence_ends_at parameter is optional and specifies the end date of the recurrence in ISO 8601 format (e.g. 2024-08-01T10:00:00Z). If not provided, the event will recur indefinitely.\",\n",
       " 'tool': None,\n",
       " 'assistant_2': None,\n",
       " 'user_2': None,\n",
       " 'lang': 'en',\n",
       " 'user_3': None,\n",
       " 'assistant_3': None}"
      ]
     },
     "execution_count": 9,
     "metadata": {},
     "output_type": "execute_result"
    }
   ],
   "source": [
    "prepared_dataset[900]"
   ]
  },
  {
   "cell_type": "code",
   "execution_count": 10,
   "id": "910cccb8",
   "metadata": {},
   "outputs": [],
   "source": [
    "final_dataset = prepared_dataset.shuffle(seed=11).train_test_split(test_size=275)"
   ]
  },
  {
   "cell_type": "code",
   "execution_count": 11,
   "id": "b4b1bae2",
   "metadata": {},
   "outputs": [
    {
     "data": {
      "text/plain": [
       "DatasetDict({\n",
       "    train: Dataset({\n",
       "        features: ['assistant', 'user', 'system', 'tool', 'assistant_2', 'user_2', 'lang', 'user_3', 'assistant_3'],\n",
       "        num_rows: 2000\n",
       "    })\n",
       "    test: Dataset({\n",
       "        features: ['assistant', 'user', 'system', 'tool', 'assistant_2', 'user_2', 'lang', 'user_3', 'assistant_3'],\n",
       "        num_rows: 275\n",
       "    })\n",
       "})"
      ]
     },
     "execution_count": 11,
     "metadata": {},
     "output_type": "execute_result"
    }
   ],
   "source": [
    "final_dataset"
   ]
  },
  {
   "cell_type": "code",
   "execution_count": 12,
   "id": "06cec9fe",
   "metadata": {},
   "outputs": [
    {
     "data": {
      "application/vnd.jupyter.widget-view+json": {
       "model_id": "cb02c851669d47889e0495615b6a0834",
       "version_major": 2,
       "version_minor": 0
      },
      "text/plain": [
       "Uploading the dataset shards:   0%|          | 0/1 [00:00<?, ?it/s]"
      ]
     },
     "metadata": {},
     "output_type": "display_data"
    },
    {
     "data": {
      "application/vnd.jupyter.widget-view+json": {
       "model_id": "a8aeab4619944c4b858c4dc2422743c6",
       "version_major": 2,
       "version_minor": 0
      },
      "text/plain": [
       "Creating parquet from Arrow format:   0%|          | 0/2 [00:00<?, ?ba/s]"
      ]
     },
     "metadata": {},
     "output_type": "display_data"
    },
    {
     "data": {
      "application/vnd.jupyter.widget-view+json": {
       "model_id": "e2ec9e0f75824c95a1e61b4f18050fdf",
       "version_major": 2,
       "version_minor": 0
      },
      "text/plain": [
       "Uploading the dataset shards:   0%|          | 0/1 [00:00<?, ?it/s]"
      ]
     },
     "metadata": {},
     "output_type": "display_data"
    },
    {
     "data": {
      "application/vnd.jupyter.widget-view+json": {
       "model_id": "561b0b9edeaf40ef81d910ff1413a139",
       "version_major": 2,
       "version_minor": 0
      },
      "text/plain": [
       "Creating parquet from Arrow format:   0%|          | 0/1 [00:00<?, ?ba/s]"
      ]
     },
     "metadata": {},
     "output_type": "display_data"
    },
    {
     "data": {
      "application/vnd.jupyter.widget-view+json": {
       "model_id": "be2b37b488a44bb0a7c07c9dfb56e589",
       "version_major": 2,
       "version_minor": 0
      },
      "text/plain": [
       "README.md:   0%|          | 0.00/681 [00:00<?, ?B/s]"
      ]
     },
     "metadata": {},
     "output_type": "display_data"
    },
    {
     "data": {
      "text/plain": [
       "CommitInfo(commit_url='https://huggingface.co/datasets/sitatech/waico-tool-use/commit/b8d6601f1ff8266c2ac1fc462001aa8c1dd2fb6c', commit_message='Upload dataset', commit_description='', oid='b8d6601f1ff8266c2ac1fc462001aa8c1dd2fb6c', pr_url=None, repo_url=RepoUrl('https://huggingface.co/datasets/sitatech/waico-tool-use', endpoint='https://huggingface.co', repo_type='dataset', repo_id='sitatech/waico-tool-use'), pr_revision=None, pr_num=None)"
      ]
     },
     "execution_count": 12,
     "metadata": {},
     "output_type": "execute_result"
    }
   ],
   "source": [
    "final_dataset.push_to_hub(\"sitatech/waico-tool-use\")"
   ]
  },
  {
   "cell_type": "code",
   "execution_count": 12,
   "id": "486a6ca2",
   "metadata": {},
   "outputs": [
    {
     "name": "stdout",
     "output_type": "stream",
     "text": [
      "send_report_to(required String recipient_email):\n",
      "Send a report generated based on observations from previous conversations. This can be sent to a health or wellbeing professional trusted by the user. This function should only be called upon the user’s request or with their explicit approval.\n",
      "---\n",
      "make_phone_call(required String phone_number):\n",
      "Initiate a phone call to the specified phone number. This function should only be called upon the user’s request or with their explicit approval. \n",
      "---\n",
      "search_memory(required String query):\n",
      "Search your memory (Waico’s memory, not the user’s) from past conversations for relevant information.\n",
      "The query parameter is a relevant fact, expression, event, person, expression.\n",
      "---\n",
      "get_health_data(required String health_data_type, required String period):\n",
      "Retrieve health-related data for a specified category and time period.\n",
      "The health_data_type parameter must be one of the following: SLEEP, WATER, STEPS_COUNT, ACTIVE_ENERGY_BURNED, or WEIGHT.\n",
      "The period parameter must be one of: TODAY (from midnight to now) or LAST_24_HOURS.\n",
      "---\n",
      "display_user_progress(required String health_data_type, required String period):\n",
      "Display a Line Chart of the user’s daily data for a given type and time period. It also shows the total for the given period.\n",
      "The health_data_type parameter must be one of: SLEEP, WATER, STEPS_COUNT, ACTIVE_ENERGY_BURNED, or WEIGHT.\n",
      "The period parameter must be one of: LAST_7_DAYS or LAST_30_DAYS.\n",
      "---\n",
      "create_calendar_single_event(required String event_name, required String starts_at, required String ends_at, optional String description, optional String location):\n",
      "Create a single (non-recurring) calendar event.\n",
      "The starts_at and ends_at parameters should be in ISO 8601 format (e.g. 2024-08-01T10:00:00Z).\n",
      "---\n",
      "schedule_recurring_calendar_event(required String event_name, required String starts_at, required String ends_at, required String frequency, optional String recurrence_ends_at, optional String description, optional String location):\n",
      "Schedule a recurring calendar event.\n",
      "The starts_at and ends_at parameters should be in ISO 8601 format (e.g. 2024-08-01T10:00:00Z).\n",
      "The frequency parameter must be one of the following: DAILY, WEEKLY, MONTHLY, or YEARLY.\n",
      "The recurrence_ends_at parameter is optional and specifies the end date of the recurrence in ISO 8601 format (e.g. 2024-08-01T10:00:00Z). If not provided, the event will recur indefinitely.\n"
     ]
    }
   ],
   "source": [
    "print(\"\\n---\\n\".join(TOOL_DEFINITIONS.values()))"
   ]
  },
  {
   "cell_type": "code",
   "execution_count": null,
   "id": "61fb33ec",
   "metadata": {},
   "outputs": [],
   "source": []
  }
 ],
 "metadata": {
  "kernelspec": {
   "display_name": "Python 3",
   "language": "python",
   "name": "python3"
  },
  "language_info": {
   "codemirror_mode": {
    "name": "ipython",
    "version": 3
   },
   "file_extension": ".py",
   "mimetype": "text/x-python",
   "name": "python",
   "nbconvert_exporter": "python",
   "pygments_lexer": "ipython3",
   "version": "3.12.0"
  }
 },
 "nbformat": 4,
 "nbformat_minor": 5
}
