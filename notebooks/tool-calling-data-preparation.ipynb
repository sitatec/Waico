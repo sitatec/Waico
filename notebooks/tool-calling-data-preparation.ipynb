{
 "cells": [
  {
   "cell_type": "code",
   "execution_count": null,
   "id": "7e3ace8a",
   "metadata": {},
   "outputs": [],
   "source": [
    "!pip install datasets"
   ]
  },
  {
   "cell_type": "code",
   "execution_count": 1,
   "id": "4e68efb9",
   "metadata": {},
   "outputs": [],
   "source": [
    "TOOL_DEFINITIONS = {\n",
    "  'send_report_to': 'send_report_to(required String recipient_email):\\nSend a report generated based on observations from previous conversations. This can be sent to a health or wellbeing professional trusted by the user. This function should only be called upon the user’s request or with their explicit approval.',\n",
    "  'make_phone_call': 'make_phone_call(required String phone_number):\\nInitiate a phone call to the specified phone number. This function should only be called upon the user’s request or with their explicit approval. ',\n",
    "  'search_memory': 'search_memory(required String query):\\nSearch your memory (Waico’s memory, not the user’s) from past conversations for relevant information.\\nThe query parameter is a relevant fact, expression, event, person, expression.',\n",
    "  'get_health_data': 'get_health_data(required String health_data_type, required String period):\\nRetrieve health-related data for a specified category and time period.\\nThe health_data_type parameter must be one of the following: SLEEP, WATER, STEPS_COUNT, ACTIVE_ENERGY_BURNED, or WEIGHT.\\nThe period parameter must be one of: TODAY (from midnight to now) or LAST_24_HOURS.',\n",
    "  'display_user_progress': 'display_user_progress(required String health_data_type, required String period):\\nDisplay a Line Chart of the user’s daily data for a given type and time period. It also shows the total for the given period.\\nThe health_data_type parameter must be one of: SLEEP, WATER, STEPS_COUNT, ACTIVE_ENERGY_BURNED, or WEIGHT.\\nThe period parameter must be one of: LAST_7_DAYS or LAST_30_DAYS.',\n",
    "  'create_calendar_single_event': 'create_calendar_single_event(required String event_name, required String starts_at, required String ends_at, optional String description, optional String location):\\nCreate a single (non-recurring) calendar event.\\nThe starts_at and ends_at parameters should be in ISO 8601 format (e.g. 2024-08-01T10:00:00Z).',\n",
    "  'schedule_recurring_calendar_event': 'schedule_recurring_calendar_event(required String event_name, required String starts_at, required String ends_at, required String frequency, optional String recurrence_ends_at, optional String description, optional String location):\\nSchedule a recurring calendar event.\\nThe starts_at and ends_at parameters should be in ISO 8601 format (e.g. 2024-08-01T10:00:00Z).\\nThe frequency parameter must be one of the following: DAILY, WEEKLY, MONTHLY, or YEARLY.\\nThe recurrence_ends_at parameter is optional and specifies the end date of the recurrence in ISO 8601 format (e.g. 2024-08-01T10:00:00Z). If not provided, the event will recur indefinitely.',\n",
    "}"
   ]
  },
  {
   "cell_type": "code",
   "execution_count": 2,
   "id": "ef148716",
   "metadata": {},
   "outputs": [],
   "source": [
    "import re\n",
    "import random\n",
    "from typing import List, Any\n",
    "\n",
    "\n",
    "def add_system_prompt(sample, lang: str):\n",
    "    tool_instructions = (\n",
    "        \"\\n\\nTOOL CALLING:\\n\"\n",
    "        \"You have access to the tools below that you can call to satisfy a user query or when you think it is appropriate.\\n\"\n",
    "        \"If a tool requires an input that you don't know or the user query is ambiguous, ask for clarification. If you can't perform the action requested and there is no tool to perform it, politely let the user that you don't have that ability.\\n\\n\"\n",
    "        f\"{\"\\n---\\n\".join(get_tool_definitions(sample))}\"\n",
    "    )\n",
    "    if sample.get(\"system\"):\n",
    "        sample[\"system\"] += tool_instructions\n",
    "    else:\n",
    "        sample[\"system\"] = f\"You are Waico, a helpful Wellbeing AI Assistant.{tool_instructions}\"\n",
    "    \n",
    "    sample[\"lang\"] = lang\n",
    "    return sample\n",
    "\n",
    "\n",
    "def get_tool_definitions(sample):\n",
    "    assistant_message = sample[\"assistant\"]\n",
    "    tool_match = re.search(r\"<tool_call\\s+([^\\s>]+)>\", assistant_message)\n",
    "\n",
    "    if tool_match:\n",
    "        tool_called = tool_match.group(1)\n",
    "        selected_tool_definition = TOOL_DEFINITIONS[tool_called]\n",
    "        # Choose random tool definitions to include with the tool the model must pick\n",
    "        # If we provide only the selected tool, the model won't learn to pick the right\n",
    "        # tool among many available.\n",
    "        additional_tool_definitions = pick_random_samples(\n",
    "            data=list(TOOL_DEFINITIONS.values()),\n",
    "            exclude=selected_tool_definition,\n",
    "            max_samples=3,\n",
    "        )\n",
    "        return [selected_tool_definition, *additional_tool_definitions]\n",
    "    else:\n",
    "        # This samples doesn't contain tool call, maybe a case where the user didn't provide\n",
    "        # enough context for the model to deduce the parameters or there is no tool to\n",
    "        # perform the action the user requested. In some of these cases, the model will\n",
    "        # say which tools it can use, to make sure the tools it list are in the system prompt\n",
    "        # we return all of their definitions here.\n",
    "        return list(TOOL_DEFINITIONS.values())\n",
    "\n",
    "\n",
    "def pick_random_samples(\n",
    "    data: List[Any], max_samples: int, exclude: Any | None = None\n",
    ") -> List[Any]:\n",
    "    \"\"\"\n",
    "    Randomly picks between 1 and `max_elements` samples from the given list `data`,\n",
    "    excluding the specified `exclude` element.\n",
    "\n",
    "    Parameters:\n",
    "        data (List[Any]): The list to sample from.\n",
    "        exclude (Any): An element to exclude from sampling.\n",
    "        max_samples (int): The maximum number of elements to sample (inclusive).\n",
    "\n",
    "    Returns:\n",
    "        List[Any]: A list of randomly selected elements (length between 1 and `max_elements`),\n",
    "                   not including the excluded element.\n",
    "\n",
    "    Raises:\n",
    "        ValueError: If no elements remain after exclusion or if max_elements is invalid.\n",
    "    \"\"\"\n",
    "    if exclude is not None:\n",
    "        data = [item for item in data if item != exclude]\n",
    "\n",
    "    if not data:\n",
    "        raise ValueError(\"No elements left to sample after exclusion.\")\n",
    "\n",
    "    if max_samples < 1:\n",
    "        raise ValueError(\"max_samples must be at least 1.\")\n",
    "\n",
    "    max_possible = min(max_samples, len(data))\n",
    "    sample_size = random.randint(1, max_possible)\n",
    "\n",
    "    return random.sample(data, sample_size)"
   ]
  },
  {
   "cell_type": "code",
   "execution_count": 3,
   "id": "386b458f",
   "metadata": {},
   "outputs": [],
   "source": [
    "from datasets import load_dataset, concatenate_datasets\n",
    "\n",
    "en_dataset = load_dataset(\"json\", data_files=\"../datasets/raw/waico-tool-calling-dataset-en.jsonl\")[\"train\"]\n",
    "fr_dataset = load_dataset(\"json\", data_files=\"../datasets/raw/waico-tool-calling-dataset-fr.jsonl\")[\"train\"]\n",
    "de_dataset = load_dataset(\"json\", data_files=\"../datasets/raw/waico-tool-calling-dataset-de.jsonl\")[\"train\"]\n",
    "es_dataset = load_dataset(\"json\", data_files=\"../datasets/raw/waico-tool-calling-dataset-es.jsonl\")[\"train\"]"
   ]
  },
  {
   "cell_type": "code",
   "execution_count": 4,
   "id": "9bf3653d",
   "metadata": {},
   "outputs": [],
   "source": [
    "en_dataset = en_dataset.map(add_system_prompt, num_proc=4, fn_kwargs={\"lang\": \"en\"})\n",
    "fr_dataset = fr_dataset.map(add_system_prompt, num_proc=4, fn_kwargs={\"lang\": \"fr\"})\n",
    "de_dataset = de_dataset.map(add_system_prompt, num_proc=4, fn_kwargs={\"lang\": \"de\"})\n",
    "es_dataset = es_dataset.map(add_system_prompt, num_proc=4, fn_kwargs={\"lang\": \"es\"})"
   ]
  },
  {
   "cell_type": "code",
   "execution_count": 5,
   "id": "939390ca",
   "metadata": {},
   "outputs": [],
   "source": [
    "prepared_dataset = concatenate_datasets([en_dataset, fr_dataset, de_dataset, es_dataset])"
   ]
  },
  {
   "cell_type": "code",
   "execution_count": 6,
   "id": "181ee19d",
   "metadata": {},
   "outputs": [
    {
     "data": {
      "text/plain": [
       "Dataset({\n",
       "    features: ['assistant', 'user', 'system', 'tool', 'assistant_2', 'user_2', 'lang', 'user_3', 'assistant_3'],\n",
       "    num_rows: 1740\n",
       "})"
      ]
     },
     "execution_count": 6,
     "metadata": {},
     "output_type": "execute_result"
    }
   ],
   "source": [
    "prepared_dataset"
   ]
  },
  {
   "cell_type": "code",
   "execution_count": 7,
   "id": "1f322ad1",
   "metadata": {},
   "outputs": [
    {
     "data": {
      "text/plain": [
       "{'assistant': 'Sure, one moment while I look it up.\\n```tool_call\\nget_health_data(health_data_type=\"SLEEP\", period=\"TODAY\")\\n```',\n",
       " 'user': 'Can you tell me how many hours I slept Today?',\n",
       " 'system': \"You are Waico, a helpful Wellbeing AI Assistant.\\n\\nTOOL CALLING:\\nYou have access to the tools below that you can call to satisfy a user query or when you think it is appropriate.\\nIf a tool requires an input that you don't know or the user query is ambiguous, ask for clarification. If you can't perform the action requested and there is no tool to perform it, politely let the user that you don't have that ability.\\n\\nsend_report_to(required String recipient_email):\\nSend a report generated based on observations from previous conversations. This can be sent to a health or wellbeing professional trusted by the user. This function should only be called upon the user’s request or with their explicit approval.\\n---\\nmake_phone_call(required String phone_number):\\nInitiate a phone call to the specified phone number. This function should only be called upon the user’s request or with their explicit approval. \\n---\\nsearch_memory(required String query):\\nSearch your memory (Waico’s memory, not the user’s) from past conversations for relevant information.\\nThe query parameter is a relevant fact, expression, event, person, expression.\\n---\\nget_health_data(required String health_data_type, required String period):\\nRetrieve health-related data for a specified category and time period.\\nThe health_data_type parameter must be one of the following: SLEEP, WATER, STEPS_COUNT, ACTIVE_ENERGY_BURNED, or WEIGHT.\\nThe period parameter must be one of: TODAY (from midnight to now) or LAST_24_HOURS.\\n---\\ndisplay_user_progress(required String health_data_type, required String period):\\nDisplay a Line Chart of the user’s daily data for a given type and time period. It also shows the total for the given period.\\nThe health_data_type parameter must be one of: SLEEP, WATER, STEPS_COUNT, ACTIVE_ENERGY_BURNED, or WEIGHT.\\nThe period parameter must be one of: LAST_7_DAYS or LAST_30_DAYS.\\n---\\ncreate_calendar_single_event(required String event_name, required String starts_at, required String ends_at, optional String description, optional String location):\\nCreate a single (non-recurring) calendar event.\\nThe starts_at and ends_at parameters should be in ISO 8601 format (e.g. 2024-08-01T10:00:00Z).\\n---\\nschedule_recurring_calendar_event(required String event_name, required String starts_at, required String ends_at, required String frequency, optional String recurrence_ends_at, optional String description, optional String location):\\nSchedule a recurring calendar event.\\nThe starts_at and ends_at parameters should be in ISO 8601 format (e.g. 2024-08-01T10:00:00Z).\\nThe frequency parameter must be one of the following: DAILY, WEEKLY, MONTHLY, or YEARLY.\\nThe recurrence_ends_at parameter is optional and specifies the end date of the recurrence in ISO 8601 format (e.g. 2024-08-01T10:00:00Z). If not provided, the event will recur indefinitely.\",\n",
       " 'tool': None,\n",
       " 'assistant_2': None,\n",
       " 'user_2': None,\n",
       " 'lang': 'en',\n",
       " 'user_3': None,\n",
       " 'assistant_3': None}"
      ]
     },
     "execution_count": 7,
     "metadata": {},
     "output_type": "execute_result"
    }
   ],
   "source": [
    "prepared_dataset[0]"
   ]
  },
  {
   "cell_type": "code",
   "execution_count": 8,
   "id": "d2d9fa2c",
   "metadata": {},
   "outputs": [
    {
     "data": {
      "text/plain": [
       "{'assistant': 'J\\'essaie de vous connecter.\\n```tool_call\\nmake_phone_call(phone_number=\"01 23 45 67 89\")\\n```',\n",
       " 'user': 'Veuillez composer le 01 23 45 67 89 pour moi.',\n",
       " 'system': \"You are Waico, a helpful Wellbeing AI Assistant.\\n\\nTOOL CALLING:\\nYou have access to the tools below that you can call to satisfy a user query or when you think it is appropriate.\\nIf a tool requires an input that you don't know or the user query is ambiguous, ask for clarification. If you can't perform the action requested and there is no tool to perform it, politely let the user that you don't have that ability.\\n\\nsend_report_to(required String recipient_email):\\nSend a report generated based on observations from previous conversations. This can be sent to a health or wellbeing professional trusted by the user. This function should only be called upon the user’s request or with their explicit approval.\\n---\\nmake_phone_call(required String phone_number):\\nInitiate a phone call to the specified phone number. This function should only be called upon the user’s request or with their explicit approval. \\n---\\nsearch_memory(required String query):\\nSearch your memory (Waico’s memory, not the user’s) from past conversations for relevant information.\\nThe query parameter is a relevant fact, expression, event, person, expression.\\n---\\nget_health_data(required String health_data_type, required String period):\\nRetrieve health-related data for a specified category and time period.\\nThe health_data_type parameter must be one of the following: SLEEP, WATER, STEPS_COUNT, ACTIVE_ENERGY_BURNED, or WEIGHT.\\nThe period parameter must be one of: TODAY (from midnight to now) or LAST_24_HOURS.\\n---\\ndisplay_user_progress(required String health_data_type, required String period):\\nDisplay a Line Chart of the user’s daily data for a given type and time period. It also shows the total for the given period.\\nThe health_data_type parameter must be one of: SLEEP, WATER, STEPS_COUNT, ACTIVE_ENERGY_BURNED, or WEIGHT.\\nThe period parameter must be one of: LAST_7_DAYS or LAST_30_DAYS.\\n---\\ncreate_calendar_single_event(required String event_name, required String starts_at, required String ends_at, optional String description, optional String location):\\nCreate a single (non-recurring) calendar event.\\nThe starts_at and ends_at parameters should be in ISO 8601 format (e.g. 2024-08-01T10:00:00Z).\\n---\\nschedule_recurring_calendar_event(required String event_name, required String starts_at, required String ends_at, required String frequency, optional String recurrence_ends_at, optional String description, optional String location):\\nSchedule a recurring calendar event.\\nThe starts_at and ends_at parameters should be in ISO 8601 format (e.g. 2024-08-01T10:00:00Z).\\nThe frequency parameter must be one of the following: DAILY, WEEKLY, MONTHLY, or YEARLY.\\nThe recurrence_ends_at parameter is optional and specifies the end date of the recurrence in ISO 8601 format (e.g. 2024-08-01T10:00:00Z). If not provided, the event will recur indefinitely.\",\n",
       " 'tool': '<tool_response make_phone_call>\\nAppel téléphonique initié\\n</tool_response>',\n",
       " 'assistant_2': \"J'ai composé le 01 23 45 67 89 pour vous. La sonnerie devrait se faire entendre.\",\n",
       " 'user_2': None,\n",
       " 'lang': 'fr',\n",
       " 'user_3': None,\n",
       " 'assistant_3': None}"
      ]
     },
     "execution_count": 8,
     "metadata": {},
     "output_type": "execute_result"
    }
   ],
   "source": [
    "prepared_dataset[900]"
   ]
  },
  {
   "cell_type": "code",
   "execution_count": 21,
   "id": "910cccb8",
   "metadata": {},
   "outputs": [],
   "source": [
    "final_dataset = prepared_dataset.shuffle(seed=11).train_test_split(test_size=180)"
   ]
  },
  {
   "cell_type": "code",
   "execution_count": 22,
   "id": "b4b1bae2",
   "metadata": {},
   "outputs": [
    {
     "data": {
      "text/plain": [
       "DatasetDict({\n",
       "    train: Dataset({\n",
       "        features: ['assistant', 'user', 'system', 'tool', 'assistant_2', 'user_2', 'lang', 'user_3', 'assistant_3'],\n",
       "        num_rows: 1560\n",
       "    })\n",
       "    test: Dataset({\n",
       "        features: ['assistant', 'user', 'system', 'tool', 'assistant_2', 'user_2', 'lang', 'user_3', 'assistant_3'],\n",
       "        num_rows: 180\n",
       "    })\n",
       "})"
      ]
     },
     "execution_count": 22,
     "metadata": {},
     "output_type": "execute_result"
    }
   ],
   "source": [
    "final_dataset"
   ]
  },
  {
   "cell_type": "code",
   "execution_count": 23,
   "id": "06cec9fe",
   "metadata": {},
   "outputs": [
    {
     "data": {
      "application/vnd.jupyter.widget-view+json": {
       "model_id": "36b6ec77604441d0a3bb5594fc733d6e",
       "version_major": 2,
       "version_minor": 0
      },
      "text/plain": [
       "Uploading the dataset shards:   0%|          | 0/1 [00:00<?, ?it/s]"
      ]
     },
     "metadata": {},
     "output_type": "display_data"
    },
    {
     "data": {
      "application/vnd.jupyter.widget-view+json": {
       "model_id": "339ad166096f4dcfa44d793b1a19cc6e",
       "version_major": 2,
       "version_minor": 0
      },
      "text/plain": [
       "Creating parquet from Arrow format:   0%|          | 0/2 [00:00<?, ?ba/s]"
      ]
     },
     "metadata": {},
     "output_type": "display_data"
    },
    {
     "data": {
      "application/vnd.jupyter.widget-view+json": {
       "model_id": "6cb96cf7bc8a4254ac5b4ff0372850a6",
       "version_major": 2,
       "version_minor": 0
      },
      "text/plain": [
       "Uploading the dataset shards:   0%|          | 0/1 [00:00<?, ?it/s]"
      ]
     },
     "metadata": {},
     "output_type": "display_data"
    },
    {
     "data": {
      "application/vnd.jupyter.widget-view+json": {
       "model_id": "1fee032c648544b09569f780e2aada4e",
       "version_major": 2,
       "version_minor": 0
      },
      "text/plain": [
       "Creating parquet from Arrow format:   0%|          | 0/1 [00:00<?, ?ba/s]"
      ]
     },
     "metadata": {},
     "output_type": "display_data"
    },
    {
     "data": {
      "application/vnd.jupyter.widget-view+json": {
       "model_id": "3124527f29d749729ae84d694c372edb",
       "version_major": 2,
       "version_minor": 0
      },
      "text/plain": [
       "README.md:   0%|          | 0.00/540 [00:00<?, ?B/s]"
      ]
     },
     "metadata": {},
     "output_type": "display_data"
    },
    {
     "data": {
      "text/plain": [
       "CommitInfo(commit_url='https://huggingface.co/datasets/sitatech/waico-tool-use/commit/5fd9143acb6b1cbae7530314935e20fd57027650', commit_message='Upload dataset', commit_description='', oid='5fd9143acb6b1cbae7530314935e20fd57027650', pr_url=None, repo_url=RepoUrl('https://huggingface.co/datasets/sitatech/waico-tool-use', endpoint='https://huggingface.co', repo_type='dataset', repo_id='sitatech/waico-tool-use'), pr_revision=None, pr_num=None)"
      ]
     },
     "execution_count": 23,
     "metadata": {},
     "output_type": "execute_result"
    }
   ],
   "source": [
    "final_dataset.push_to_hub(\"sitatech/waico-tool-use\")"
   ]
  },
  {
   "cell_type": "code",
   "execution_count": 41,
   "id": "486a6ca2",
   "metadata": {},
   "outputs": [
    {
     "name": "stdout",
     "output_type": "stream",
     "text": [
      "send_report_to(required String recipient_email):\n",
      "Send a report generated based on observations from previous conversations. This can be sent to a health or wellbeing professional trusted by the user. This function should only be called upon the user’s request or with their explicit approval.\n",
      "---\n",
      "make_phone_call(required String phone_number):\n",
      "Initiate a phone call to the specified phone number. This function should only be called upon the user’s request or with their explicit approval. \n",
      "---\n",
      "search_memory(required String query):\n",
      "Search your memory (Waico’s memory, not the user’s) from past conversations for relevant information.\n",
      "The query parameter is a relevant fact, expression, event, person, expression.\n",
      "---\n",
      "get_health_data(required String health_data_type, required String period):\n",
      "Retrieve health-related data for a specified category and time period.\n",
      "The health_data_type parameter must be one of the following: SLEEP, WATER, STEPS_COUNT, ACTIVE_ENERGY_BURNED, or WEIGHT.\n",
      "The period parameter must be one of: TODAY (from midnight to now) or LAST_24_HOURS.\n",
      "---\n",
      "display_user_progress(required String health_data_type, required String period):\n",
      "Display a Line Chart of the user’s daily data for a given type and time period. It also shows the total for the given period.\n",
      "The health_data_type parameter must be one of: SLEEP, WATER, STEPS_COUNT, ACTIVE_ENERGY_BURNED, or WEIGHT.\n",
      "The period parameter must be one of: LAST_7_DAYS or LAST_30_DAYS.\n",
      "---\n",
      "create_calendar_single_event(required String event_name, required String starts_at, required String ends_at, optional String description, optional String location):\n",
      "Create a single (non-recurring) calendar event.\n",
      "The starts_at and ends_at parameters should be in ISO 8601 format (e.g. 2024-08-01T10:00:00Z).\n",
      "---\n",
      "schedule_recurring_calendar_event(required String event_name, required String starts_at, required String ends_at, required String frequency, optional String recurrence_ends_at, optional String description, optional String location):\n",
      "Schedule a recurring calendar event.\n",
      "The starts_at and ends_at parameters should be in ISO 8601 format (e.g. 2024-08-01T10:00:00Z).\n",
      "The frequency parameter must be one of the following: DAILY, WEEKLY, MONTHLY, or YEARLY.\n",
      "The recurrence_ends_at parameter is optional and specifies the end date of the recurrence in ISO 8601 format (e.g. 2024-08-01T10:00:00Z). If not provided, the event will recur indefinitely.\n"
     ]
    }
   ],
   "source": [
    "print(\"\\n---\\n\".join(TOOL_DEFINITIONS.values()))"
   ]
  },
  {
   "cell_type": "code",
   "execution_count": null,
   "id": "61fb33ec",
   "metadata": {},
   "outputs": [],
   "source": []
  }
 ],
 "metadata": {
  "kernelspec": {
   "display_name": "Python 3",
   "language": "python",
   "name": "python3"
  },
  "language_info": {
   "codemirror_mode": {
    "name": "ipython",
    "version": 3
   },
   "file_extension": ".py",
   "mimetype": "text/x-python",
   "name": "python",
   "nbconvert_exporter": "python",
   "pygments_lexer": "ipython3",
   "version": "3.12.0"
  }
 },
 "nbformat": 4,
 "nbformat_minor": 5
}
